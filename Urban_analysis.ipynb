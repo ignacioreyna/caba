{
  "nbformat": 4,
  "nbformat_minor": 0,
  "metadata": {
    "colab": {
      "name": "Urban_analysis.ipynb",
      "provenance": [],
      "authorship_tag": "ABX9TyOe5vQiQU9QmyuD4HaA8gxi",
      "include_colab_link": true
    },
    "kernelspec": {
      "name": "python3",
      "display_name": "Python 3"
    }
  },
  "cells": [
    {
      "cell_type": "markdown",
      "metadata": {
        "id": "view-in-github",
        "colab_type": "text"
      },
      "source": [
        "<a href=\"https://colab.research.google.com/github/ignacioreyna/caba/blob/master/Urban_analysis.ipynb\" target=\"_parent\"><img src=\"https://colab.research.google.com/assets/colab-badge.svg\" alt=\"Open In Colab\"/></a>"
      ]
    },
    {
      "cell_type": "code",
      "metadata": {
        "id": "4FX6qbNl9Qmh",
        "colab_type": "code",
        "colab": {}
      },
      "source": [
        "!mkdir downloads\n",
        "!pip install pyshp\n",
        "!pip install geopandas"
      ],
      "execution_count": 0,
      "outputs": []
    },
    {
      "cell_type": "code",
      "metadata": {
        "id": "iNvHlijmCB1A",
        "colab_type": "code",
        "colab": {}
      },
      "source": [
        "import urllib.request\n",
        "import zipfile\n",
        "import os\n",
        "import pandas as pd\n",
        "import shapefile\n",
        "import numpy as np\n",
        "import matplotlib.pyplot as plt\n",
        "import geopandas\n",
        "import seaborn as sns\n",
        "import matplotlib as mpl\n",
        "\n",
        "mpl.rcParams['figure.dpi']= 400\n",
        "sns.set(style='white', palette='pastel', color_codes=True)\n",
        "sns.mpl.rc('figure', figsize=(15,9))"
      ],
      "execution_count": 0,
      "outputs": []
    },
    {
      "cell_type": "code",
      "metadata": {
        "id": "FNxoN2X89mYr",
        "colab_type": "code",
        "colab": {}
      },
      "source": [
        "tejidos = [\n",
        "'http://cdn.buenosaires.gob.ar/datosabiertos/datasets/tejido-urbano/Agronomia_tejido.zip', \n",
        "'http://cdn.buenosaires.gob.ar/datosabiertos/datasets/tejido-urbano/Almagro_tejido.zip', \n",
        "'http://cdn.buenosaires.gob.ar/datosabiertos/datasets/tejido-urbano/Balvanera_tejido.zip', \n",
        "'http://cdn.buenosaires.gob.ar/datosabiertos/datasets/tejido-urbano/Barracas_tejido.zip', \n",
        "'http://cdn.buenosaires.gob.ar/datosabiertos/datasets/tejido-urbano/Belgrano_tejido.zip', \n",
        "'http://cdn.buenosaires.gob.ar/datosabiertos/datasets/tejido-urbano/Boca_tejido.zip', \n",
        "'http://cdn.buenosaires.gob.ar/datosabiertos/datasets/tejido-urbano/Boedo_tejido.zip', \n",
        "'http://cdn.buenosaires.gob.ar/datosabiertos/datasets/tejido-urbano/Caballito_tejido.zip', \n",
        "'http://cdn.buenosaires.gob.ar/datosabiertos/datasets/tejido-urbano/Chacarita_tejido.zip', \n",
        "'http://cdn.buenosaires.gob.ar/datosabiertos/datasets/tejido-urbano/Coghlan_tejido.zip', \n",
        "'http://cdn.buenosaires.gob.ar/datosabiertos/datasets/tejido-urbano/Colegiales_tejido.zip', \n",
        "'http://cdn.buenosaires.gob.ar/datosabiertos/datasets/tejido-urbano/Constitucion_tejido.zip', \n",
        "'http://cdn.buenosaires.gob.ar/datosabiertos/datasets/tejido-urbano/Floresta_tejido.zip', \n",
        "'http://cdn.buenosaires.gob.ar/datosabiertos/datasets/tejido-urbano/Flores_tejido.zip', \n",
        "'http://cdn.buenosaires.gob.ar/datosabiertos/datasets/tejido-urbano/Liniers_tejido.zip', \n",
        "'http://cdn.buenosaires.gob.ar/datosabiertos/datasets/tejido-urbano/Mataderos_tejido.zip', \n",
        "'http://cdn.buenosaires.gob.ar/datosabiertos/datasets/tejido-urbano/Monserrat_tejido.zip', \n",
        "'http://cdn.buenosaires.gob.ar/datosabiertos/datasets/tejido-urbano/Monte_Castro_tejido.zip', \n",
        "'http://cdn.buenosaires.gob.ar/datosabiertos/datasets/tejido-urbano/Nueva_Pompeya_tejido.zip', \n",
        "'http://cdn.buenosaires.gob.ar/datosabiertos/datasets/tejido-urbano/Nunez_tejido.zip', \n",
        "'http://cdn.buenosaires.gob.ar/datosabiertos/datasets/tejido-urbano/Palermo_tejido.zip', \n",
        "'http://cdn.buenosaires.gob.ar/datosabiertos/datasets/tejido-urbano/Parque_Avellaneda_tejido.zip', \n",
        "'http://cdn.buenosaires.gob.ar/datosabiertos/datasets/tejido-urbano/Parque_Chacabuco_tejido.zip', \n",
        "'http://cdn.buenosaires.gob.ar/datosabiertos/datasets/tejido-urbano/Parque_Chas_tejido.zip', \n",
        "'http://cdn.buenosaires.gob.ar/datosabiertos/datasets/tejido-urbano/Parque_Patricios_tejido.zip', \n",
        "'http://cdn.buenosaires.gob.ar/datosabiertos/datasets/tejido-urbano/Paternal_tejido.zip', \n",
        "'http://cdn.buenosaires.gob.ar/datosabiertos/datasets/tejido-urbano/Puerto_Madero_tejido.zip', \n",
        "'http://cdn.buenosaires.gob.ar/datosabiertos/datasets/tejido-urbano/Recoleta_tejido.zip', \n",
        "'http://cdn.buenosaires.gob.ar/datosabiertos/datasets/tejido-urbano/Retiro_tejido.zip', \n",
        "'http://cdn.buenosaires.gob.ar/datosabiertos/datasets/tejido-urbano/Saavedra_tejido.zip', \n",
        "'http://cdn.buenosaires.gob.ar/datosabiertos/datasets/tejido-urbano/San_Cristobal_tejido.zip', \n",
        "'http://cdn.buenosaires.gob.ar/datosabiertos/datasets/tejido-urbano/San_Nicolas_tejido.zip', \n",
        "'http://cdn.buenosaires.gob.ar/datosabiertos/datasets/tejido-urbano/San_Telmo_tejido.zip', \n",
        "'http://cdn.buenosaires.gob.ar/datosabiertos/datasets/tejido-urbano/Velez_Sarsfield_tejido.zip', \n",
        "'http://cdn.buenosaires.gob.ar/datosabiertos/datasets/tejido-urbano/Versalles_tejido.zip', \n",
        "'http://cdn.buenosaires.gob.ar/datosabiertos/datasets/tejido-urbano/Villa_Crespo_tejido.zip', \n",
        "'http://cdn.buenosaires.gob.ar/datosabiertos/datasets/tejido-urbano/Villa_Del_Parque_tejido.zip', \n",
        "'http://cdn.buenosaires.gob.ar/datosabiertos/datasets/tejido-urbano/Villa_Devoto_tejido.zip', \n",
        "'http://cdn.buenosaires.gob.ar/datosabiertos/datasets/tejido-urbano/Villa_Gral_Mitre_tejido.zip', \n",
        "'http://cdn.buenosaires.gob.ar/datosabiertos/datasets/tejido-urbano/Villa_Lugano_tejido.zip', \n",
        "'http://cdn.buenosaires.gob.ar/datosabiertos/datasets/tejido-urbano/Villa_Luro_tejido.zip', \n",
        "'http://cdn.buenosaires.gob.ar/datosabiertos/datasets/tejido-urbano/Villa_Ortuzar_tejido.zip', \n",
        "'http://cdn.buenosaires.gob.ar/datosabiertos/datasets/tejido-urbano/Villa_Pueyrredon_tejido.zip', \n",
        "'http://cdn.buenosaires.gob.ar/datosabiertos/datasets/tejido-urbano/Villa_Real_tejido.zip', \n",
        "'http://cdn.buenosaires.gob.ar/datosabiertos/datasets/tejido-urbano/Villa_Riachuelo_tejido.zip', \n",
        "'http://cdn.buenosaires.gob.ar/datosabiertos/datasets/tejido-urbano/Villa_Santa_Rita_tejido.zip', \n",
        "'http://cdn.buenosaires.gob.ar/datosabiertos/datasets/tejido-urbano/Villa_Soldati_tejido.zip', \n",
        "'http://cdn.buenosaires.gob.ar/datosabiertos/datasets/tejido-urbano/Villa_Urquiza_tejido.zip']\n",
        "\n",
        "\n",
        "print('====================')\n",
        "print('Teijdos')\n",
        "print('====================')\n",
        "for i, link in enumerate(tejidos):\n",
        "    print(f\"Downloading zip {i+1}/{len(links)}...\")\n",
        "    neighbourhood = '_'.join(link.split('/')[-1].split('_')[:-1])\n",
        "    urllib.request.urlretrieve(link, f\"downloads/{neighbourhood}.zip\")"
      ],
      "execution_count": 0,
      "outputs": []
    },
    {
      "cell_type": "code",
      "metadata": {
        "id": "lRu4xe1gc-4f",
        "colab_type": "code",
        "colab": {}
      },
      "source": [
        "caba = [\n",
        "'http://cdn.buenosaires.gob.ar/datosabiertos/datasets/calles/callejero.csv',\n",
        "'http://cdn.buenosaires.gob.ar/datosabiertos/datasets/manzanas/mapa-manzanas.csv',\n",
        "'http://cdn.buenosaires.gob.ar/datosabiertos/datasets/secciones/secciones-catastrales.csv',\n",
        "'http://cdn.buenosaires.gob.ar/datosabiertos/datasets/barrios/barrios.csv',\n",
        "'https://cdn.buenosaires.gob.ar/datosabiertos/datasets/vivienda-durable-calidad-constructiva/hacinamiento-personas-por-cuarto-por-comuna.csv',\n",
        "'http://cdn.buenosaires.gob.ar/datosabiertos/datasets/comunas/comunas.csv'\n",
        "]\n",
        "\n",
        "print('====================')\n",
        "print('CABA')\n",
        "print('====================')\n",
        "for i, link in enumerate(caba):\n",
        "    print(f\"Downloading zip {i+1}/{len(caba)}...\")\n",
        "    name = link.split('/')[-2]\n",
        "    urllib.request.urlretrieve(link, f\"{name}.csv\")\n",
        "\n",
        "#This file would override barrios.csv with logic above.\n",
        "urllib.request.urlretrieve('http://cdn.buenosaires.gob.ar/datosabiertos/datasets/barrios/barrios_comunas_p_Ciencia_de_Datos_y_PP.csv', 'barrio-por-comuna.csv')\n",
        "\n",
        "# This is a heavy file. It will take a little bit if you want it. Uncomment next line.\n",
        "# urllib.request.urlretrieve('http://cdn.buenosaires.gob.ar/datosabiertos/datasets/veredas/veredas-2019.csv', 'veredas.csv')"
      ],
      "execution_count": 0,
      "outputs": []
    },
    {
      "cell_type": "code",
      "metadata": {
        "id": "fdHIQya-9_ph",
        "colab_type": "code",
        "colab": {}
      },
      "source": [
        "def unzip_path(path):\n",
        "    files = os.listdir(path)\n",
        "    for file in files:\n",
        "        if file.endswith('.zip'):\n",
        "            filePath = path+'/'+file\n",
        "            zip_file = zipfile.ZipFile(filePath)\n",
        "            for names in zip_file.namelist():\n",
        "                zip_file.extract(names, f\"{path}/{file.replace('.zip', '')}\")\n",
        "            zip_file.close()\n",
        "    print(f'Succesfully unzipped all files in {path}')\n",
        "\n",
        "unzip_path('downloads')"
      ],
      "execution_count": 0,
      "outputs": []
    },
    {
      "cell_type": "code",
      "metadata": {
        "id": "KwVVu1vNAb4M",
        "colab_type": "code",
        "colab": {}
      },
      "source": [
        "!mv downloads/Monserrat downloads/Montserrat\n",
        "!mv downloads/Nunez/$(ls downloads/Nunez | grep dbf) downloads/Nunez/Nunez.dbf\n",
        "!mv downloads/Villa_Del_Parque downloads/Villa_del_Parque"
      ],
      "execution_count": 0,
      "outputs": []
    },
    {
      "cell_type": "code",
      "metadata": {
        "id": "QaXdEzz990Yp",
        "colab_type": "code",
        "colab": {}
      },
      "source": [
        "def load_df(path):\n",
        "    dirs = dirs = [nhood for nhood in os.listdir(path) if os.path.isdir(f\"{path}/{nhood}\")]\n",
        "    ret = ''\n",
        "    for i, nhood in enumerate(dirs):\n",
        "        if not os.path.isfile(f\"{path}/{nhood}\"):\n",
        "            sf_path = f'{path}/{nhood}/{nhood}.shp'\n",
        "            print(f'Loading {i+1}/{len(dirs)}...')\n",
        "            sf = shapefile.Reader(sf_path, encoding='windows-1252')\n",
        "\n",
        "            fields = [x[0] for x in sf.fields][1:]\n",
        "            records = [y[:] for y in sf.records()]\n",
        "            shps = [s.points for s in sf.shapes()]\n",
        "\n",
        "            \n",
        "            if len(ret) == 0:\n",
        "                ret = pd.DataFrame(columns=fields, data=records)\n",
        "                ret['BARRIO'] = nhood\n",
        "            else:\n",
        "                sd_df = pd.DataFrame(columns=fields, data=records)\n",
        "                sd_df['BARRIO'] = nhood\n",
        "                ret = pd.concat([ret, sd_df])\n",
        "    return ret\n",
        "\n",
        "df = load_df('downloads')\n",
        "df[['seccion', 'manzana', 'parcela']] = df.SMP.str.split('-', expand=True)\n",
        "df = df.drop(['ALTMETROS', 'SMP'], axis=1)"
      ],
      "execution_count": 0,
      "outputs": []
    },
    {
      "cell_type": "code",
      "metadata": {
        "id": "1AZoUPfdT-aX",
        "colab_type": "code",
        "colab": {}
      },
      "source": [
        "# Altura por seccion\n",
        "s_x_alt = df[['ALTOS', 'seccion']].groupby(['seccion']).mean().reset_index()\n",
        "s_x_alt['seccion'] = sec_x_alt['seccion'].str.lstrip(\"0\").str.zfill(2)\n",
        "s_x_alt = s_x_alt[s_x_alt['seccion'] != '']\n",
        "secciones = geopandas.read_file('secciones.csv')\n",
        "secciones['seccion'] = secciones['SECCION_']\n",
        "secciones = secciones.drop('SECCION_', axis=1)\n",
        "\n",
        "fig, ax = plt.subplots(1, 1)\n",
        "secciones.merge(s_x_alt, on='seccion').plot(column='ALTOS', cmap='cool', ax=ax, legend=True)\n",
        "ax.axis('off')\n",
        "ax.set_title(\"Cantidad de pisos promedio por seccion\")\n",
        "\n",
        "plt.show()"
      ],
      "execution_count": 0,
      "outputs": []
    },
    {
      "cell_type": "code",
      "metadata": {
        "id": "ubk99PLlqE8O",
        "colab_type": "code",
        "colab": {}
      },
      "source": [
        "# Altura por barrio\n",
        "b_x_alt = df[['ALTOS', 'BARRIO']].groupby(['BARRIO']).mean().reset_index()\n",
        "b_x_alt['barrio'] = b_x_alt['BARRIO'].str.upper().str.replace('_', ' ')\n",
        "b_x_alt = b_x_alt.drop('BARRIO', axis=1)\n",
        "barrios = geopandas.read_file('barrios.csv')\n",
        "###### Normalize names between files ######\n",
        "barrios.at[barrios[barrios['barrio'] == 'NUÑEZ'].index[0], 'barrio'] = 'NUNEZ'\n",
        "barrios.at[barrios[barrios['barrio'] == 'MONSERRAT'].index[0], 'barrio'] = 'MONTSERRAT'\n",
        "barrios.at[barrios[barrios['barrio'] == 'VILLA GRAL. MITRE'].index[0], 'barrio'] = 'VILLA GRAL MITRE'\n",
        "###### Normalize names between files ######\n",
        "fig, ax = plt.subplots(1, 1)\n",
        "barrios.merge(b_x_alt, on='barrio').plot(column='ALTOS', cmap='cool',ax=ax, legend=True)\n",
        "ax.axis('off')\n",
        "ax.set_title(\"Cantidad de pisos promedio por barrio\")\n",
        "\n",
        "plt.show()"
      ],
      "execution_count": 0,
      "outputs": []
    },
    {
      "cell_type": "code",
      "metadata": {
        "id": "wggQtbuNu7LN",
        "colab_type": "code",
        "colab": {}
      },
      "source": [
        "manzanas = geopandas.read_file('manzanas.csv')\n",
        "barrios = list(set(df['BARRIO']))\n",
        "for pointer in range(0, len(barrios), 4):\n",
        "  fig, axes = plt.subplots(2, 2)\n",
        "  axes = [item for sublist in axes for item in sublist]\n",
        "  for j, ax in enumerate(axes):\n",
        "    barrio = barrios[pointer+j]\n",
        "    print(f'Plotting {barrio}...')\n",
        "    m_x_alt = df[df['BARRIO'] == barrio]\n",
        "    m_x_alt = m_x_alt[['ALTOS', 'seccion', 'manzana']].groupby(['seccion', 'manzana']).mean().reset_index()\n",
        "    m_x_alt['sm'] = m_x_alt[['seccion', 'manzana']].agg('-'.join, axis=1)\n",
        "\n",
        "    merged = manzanas.merge(m_x_alt, on='sm', how='inner')\n",
        "    merged.plot(column='ALTOS', cmap='cool', ax=ax, legend=True)\n",
        "    ax.axis('off')\n",
        "    ax.set_title(f\"{barrio.replace('_', ' ')}\")\n",
        "\n",
        "fig.suptitle('Cantidad de pisos promedio por manzana', fontsize=16)\n",
        "plt.show()"
      ],
      "execution_count": 0,
      "outputs": []
    }
  ]
}